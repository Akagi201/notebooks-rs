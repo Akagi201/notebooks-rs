{
 "cells": [
  {
   "cell_type": "code",
   "execution_count": 2,
   "id": "d66b2de3-a715-4ff2-a76a-e5a5067298c5",
   "metadata": {},
   "outputs": [
    {
     "ename": "Error",
     "evalue": "    Updating `rsproxy` index\nerror: failed to select a version for the requirement `polars = \"^0.37.4\"`\ncandidate versions found which didn't match: 0.37.0, 0.36.2, 0.36.0, ...\nlocation searched: `rsproxy` index (which is replacing registry `crates-io`)\nif you are looking for the prerelease package it needs to be specified explicitly\n    polars = { version = \"0.12.0-beta.0\" }\nperhaps a crate was updated and forgotten to be re-vendored?",
     "output_type": "error",
     "traceback": [
      "\u001b[31mError:\u001b[0m     Updating `rsproxy` index",
      "error: failed to select a version for the requirement `polars = \"^0.37.4\"`",
      "candidate versions found which didn't match: 0.37.0, 0.36.2, 0.36.0, ...",
      "location searched: `rsproxy` index (which is replacing registry `crates-io`)",
      "if you are looking for the prerelease package it needs to be specified explicitly",
      "    polars = { version = \"0.12.0-beta.0\" }",
      "perhaps a crate was updated and forgotten to be re-vendored?"
     ]
    }
   ],
   "source": [
    ":dep ndarray = {version = \"0.15.6\"}\n",
    ":dep polars = {version = \"0.37.0\", features = [\"describe\", \"lazy\", \"ndarray\"]}\n",
    ":dep plotters = { version = \"0.3.5\", default_features = false, features = [\"evcxr\", \"all_series\", \"all_elements\"] }"
   ]
  },
  {
   "cell_type": "code",
   "execution_count": null,
   "id": "17f37ebf-b2b1-44bd-853b-7eda62600467",
   "metadata": {},
   "outputs": [],
   "source": [
    ":show_deps"
   ]
  },
  {
   "cell_type": "code",
   "execution_count": null,
   "id": "5da39a6c-4577-46f5-90d0-f0d18b1b18c9",
   "metadata": {},
   "outputs": [],
   "source": [
    "use polars::prelude::*;\n",
    "use polars::frame::DataFrame;\n",
    "use std::path::Path;\n",
    "\n",
    "fn read_data_frame_from_csv(\n",
    " csv_file_path: &Path,\n",
    ") -> DataFrame {\n",
    " CsvReader::from_path(csv_file_path)\n",
    "     .expect(\"Cannot open file.\")\n",
    "     .has_header(true)\n",
    "     .finish()\n",
    "     .unwrap()\n",
    "}\n",
    "\n",
    "let titanic_file_path: &Path = Path::new(\"datasets/titanic.csv\");\n",
    "let titanic_df: DataFrame = read_data_frame_from_csv(titanic_file_path);"
   ]
  },
  {
   "cell_type": "code",
   "execution_count": null,
   "id": "be77ec72-28d4-4d70-a30b-d7f05f100cda",
   "metadata": {},
   "outputs": [],
   "source": [
    "titanic_df.shape()"
   ]
  },
  {
   "cell_type": "code",
   "execution_count": null,
   "id": "6fc61c90-c931-425b-9876-a8aa83d38ff9",
   "metadata": {},
   "outputs": [],
   "source": [
    "titanic_df.describe(None)"
   ]
  },
  {
   "cell_type": "code",
   "execution_count": null,
   "id": "0db1a777-689a-4fb8-a3fe-611401c4e911",
   "metadata": {},
   "outputs": [],
   "source": [
    "titanic_df.head(Some(5))"
   ]
  },
  {
   "cell_type": "code",
   "execution_count": null,
   "id": "d0fcb499-4c77-486b-aae1-64aab08eaac8",
   "metadata": {},
   "outputs": [],
   "source": []
  }
 ],
 "metadata": {
  "kernelspec": {
   "display_name": "Rust",
   "language": "rust",
   "name": "rust"
  },
  "language_info": {
   "codemirror_mode": "rust",
   "file_extension": ".rs",
   "mimetype": "text/rust",
   "name": "Rust",
   "pygment_lexer": "rust",
   "version": ""
  }
 },
 "nbformat": 4,
 "nbformat_minor": 5
}
